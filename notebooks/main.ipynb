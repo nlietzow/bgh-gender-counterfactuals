{
 "cells": [
  {
   "metadata": {},
   "cell_type": "code",
   "source": "from src.common import config",
   "id": "9d87ad8d39a455b",
   "outputs": [],
   "execution_count": null
  },
  {
   "metadata": {},
   "cell_type": "markdown",
   "source": "## 1. Scraping",
   "id": "2edeca1980f1f87c"
  },
  {
   "metadata": {},
   "cell_type": "code",
   "source": "import src.scraping as scr",
   "id": "311bf4e9f65d153",
   "outputs": [],
   "execution_count": null
  },
  {
   "metadata": {
    "collapsed": true
   },
   "cell_type": "code",
   "source": "_ = await scr.scrape_ids()",
   "id": "initial_id",
   "outputs": [],
   "execution_count": null
  },
  {
   "metadata": {},
   "cell_type": "code",
   "source": "await scr.download_docs()",
   "id": "19d760976e241c94",
   "outputs": [],
   "execution_count": null
  },
  {
   "metadata": {},
   "cell_type": "code",
   "source": "_ = scr.extract_text()",
   "id": "f4aa429b58bd1c20",
   "outputs": [],
   "execution_count": null
  },
  {
   "metadata": {},
   "cell_type": "code",
   "source": "_ = scr.parse_docs()",
   "id": "24575787e899f0d8",
   "outputs": [],
   "execution_count": null
  },
  {
   "metadata": {},
   "cell_type": "markdown",
   "source": "## 2. Labeling",
   "id": "8fe35bf1d9d56927"
  },
  {
   "metadata": {},
   "cell_type": "code",
   "source": "from src.labeling import label_docs",
   "id": "e878ca071bc131a2",
   "outputs": [],
   "execution_count": null
  },
  {
   "metadata": {},
   "cell_type": "code",
   "source": "_ = await label_docs()",
   "id": "bab1f2c0b0dd179b",
   "outputs": [],
   "execution_count": null
  },
  {
   "metadata": {},
   "cell_type": "markdown",
   "source": "## 3. Augmentation",
   "id": "de2b5bf2cf55d2dc"
  },
  {
   "metadata": {},
   "cell_type": "code",
   "source": "from src.augmentation import create_augmentations",
   "id": "9995257d6a424e33",
   "outputs": [],
   "execution_count": null
  },
  {
   "metadata": {},
   "cell_type": "code",
   "source": "_ = await create_augmentations()",
   "id": "f59c9d69cf144fda",
   "outputs": [],
   "execution_count": null
  },
  {
   "metadata": {},
   "cell_type": "markdown",
   "source": "## 4. Train and Test Sets",
   "id": "841c19bc60afe14c"
  },
  {
   "metadata": {},
   "cell_type": "code",
   "source": [
    "import pandas as pd\n",
    "from sklearn.model_selection import train_test_split\n",
    "from datasets import Dataset, DatasetDict"
   ],
   "id": "3c3e58727139fd35",
   "outputs": [],
   "execution_count": null
  },
  {
   "metadata": {},
   "cell_type": "code",
   "source": "df = pd.read_json(config.DOCS_AUGMENTED_JSONL, lines=True).sort_values(by=\"id\")",
   "id": "d7f9e71604a15e1d",
   "outputs": [],
   "execution_count": null
  },
  {
   "metadata": {},
   "cell_type": "code",
   "source": [
    "train_unbalanced, test = train_test_split(\n",
    "    df,\n",
    "    test_size=1/3,\n",
    "    stratify=df.decision,\n",
    "    random_state=42,\n",
    "    shuffle=True\n",
    ")"
   ],
   "id": "39139d6874b6cf73",
   "outputs": [],
   "execution_count": null
  },
  {
   "metadata": {},
   "cell_type": "code",
   "source": [
    "n = train_unbalanced.decision.value_counts().min()\n",
    "train = (\n",
    "    train_unbalanced.groupby(\"decision\")\n",
    "    .sample(n=n, random_state=42)\n",
    "    .sample(frac=1, random_state=42)\n",
    ")"
   ],
   "id": "889b49912e5792db",
   "outputs": [],
   "execution_count": null
  },
  {
   "metadata": {},
   "cell_type": "code",
   "source": [
    "train = train.reset_index(drop=True)\n",
    "test = test.reset_index(drop=True)"
   ],
   "id": "e6b1d9a8f2bd752",
   "outputs": [],
   "execution_count": null
  },
  {
   "metadata": {},
   "cell_type": "code",
   "source": [
    "train_dataset = Dataset.from_pandas(train)\n",
    "test_dataset = Dataset.from_pandas(test)\n",
    "\n",
    "dataset = DatasetDict({\n",
    "    \"train\": train_dataset,\n",
    "    \"test\": test_dataset\n",
    "})"
   ],
   "id": "23c83e1ab83fe50",
   "outputs": [],
   "execution_count": null
  },
  {
   "metadata": {},
   "cell_type": "code",
   "source": [
    "dataset.save_to_disk(\n",
    "    config.DATA_DIR / \"BGH-CivAppeals-GenderCF\"\n",
    ")"
   ],
   "id": "66cc7f09d97fa4d8",
   "outputs": [],
   "execution_count": null
  }
 ],
 "metadata": {
  "kernelspec": {
   "display_name": "Python 3",
   "language": "python",
   "name": "python3"
  },
  "language_info": {
   "codemirror_mode": {
    "name": "ipython",
    "version": 2
   },
   "file_extension": ".py",
   "mimetype": "text/x-python",
   "name": "python",
   "nbconvert_exporter": "python",
   "pygments_lexer": "ipython2",
   "version": "2.7.6"
  }
 },
 "nbformat": 4,
 "nbformat_minor": 5
}
